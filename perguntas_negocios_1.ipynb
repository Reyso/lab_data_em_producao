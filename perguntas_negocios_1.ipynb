{
 "cells": [
  {
   "cell_type": "code",
   "execution_count": 1,
   "id": "0ac5a58d-de56-409a-985b-c6229501bc4d",
   "metadata": {},
   "outputs": [],
   "source": [
    "import pandas as pd\n",
    "import numpy as np"
   ]
  },
  {
   "cell_type": "code",
   "execution_count": 2,
   "id": "62f224e2-0f8c-4401-a5ee-558c81d6e36e",
   "metadata": {},
   "outputs": [],
   "source": [
    "data =  pd.read_csv('kc_house_data.csv')"
   ]
  },
  {
   "cell_type": "code",
   "execution_count": 3,
   "id": "cc6ff675-a1e1-430e-bcd9-fc2a4d02ecf4",
   "metadata": {},
   "outputs": [
    {
     "data": {
      "text/html": [
       "<div>\n",
       "<style scoped>\n",
       "    .dataframe tbody tr th:only-of-type {\n",
       "        vertical-align: middle;\n",
       "    }\n",
       "\n",
       "    .dataframe tbody tr th {\n",
       "        vertical-align: top;\n",
       "    }\n",
       "\n",
       "    .dataframe thead th {\n",
       "        text-align: right;\n",
       "    }\n",
       "</style>\n",
       "<table border=\"1\" class=\"dataframe\">\n",
       "  <thead>\n",
       "    <tr style=\"text-align: right;\">\n",
       "      <th></th>\n",
       "      <th>id</th>\n",
       "      <th>date</th>\n",
       "      <th>price</th>\n",
       "      <th>bedrooms</th>\n",
       "      <th>bathrooms</th>\n",
       "      <th>sqft_living</th>\n",
       "      <th>sqft_lot</th>\n",
       "      <th>floors</th>\n",
       "      <th>waterfront</th>\n",
       "      <th>view</th>\n",
       "      <th>...</th>\n",
       "      <th>grade</th>\n",
       "      <th>sqft_above</th>\n",
       "      <th>sqft_basement</th>\n",
       "      <th>yr_built</th>\n",
       "      <th>yr_renovated</th>\n",
       "      <th>zipcode</th>\n",
       "      <th>lat</th>\n",
       "      <th>long</th>\n",
       "      <th>sqft_living15</th>\n",
       "      <th>sqft_lot15</th>\n",
       "    </tr>\n",
       "  </thead>\n",
       "  <tbody>\n",
       "    <tr>\n",
       "      <th>0</th>\n",
       "      <td>7129300520</td>\n",
       "      <td>20141013T000000</td>\n",
       "      <td>221900.0</td>\n",
       "      <td>3</td>\n",
       "      <td>1.00</td>\n",
       "      <td>1180</td>\n",
       "      <td>5650</td>\n",
       "      <td>1.0</td>\n",
       "      <td>0</td>\n",
       "      <td>0</td>\n",
       "      <td>...</td>\n",
       "      <td>7</td>\n",
       "      <td>1180</td>\n",
       "      <td>0</td>\n",
       "      <td>1955</td>\n",
       "      <td>0</td>\n",
       "      <td>98178</td>\n",
       "      <td>47.5112</td>\n",
       "      <td>-122.257</td>\n",
       "      <td>1340</td>\n",
       "      <td>5650</td>\n",
       "    </tr>\n",
       "    <tr>\n",
       "      <th>1</th>\n",
       "      <td>6414100192</td>\n",
       "      <td>20141209T000000</td>\n",
       "      <td>538000.0</td>\n",
       "      <td>3</td>\n",
       "      <td>2.25</td>\n",
       "      <td>2570</td>\n",
       "      <td>7242</td>\n",
       "      <td>2.0</td>\n",
       "      <td>0</td>\n",
       "      <td>0</td>\n",
       "      <td>...</td>\n",
       "      <td>7</td>\n",
       "      <td>2170</td>\n",
       "      <td>400</td>\n",
       "      <td>1951</td>\n",
       "      <td>1991</td>\n",
       "      <td>98125</td>\n",
       "      <td>47.7210</td>\n",
       "      <td>-122.319</td>\n",
       "      <td>1690</td>\n",
       "      <td>7639</td>\n",
       "    </tr>\n",
       "    <tr>\n",
       "      <th>2</th>\n",
       "      <td>5631500400</td>\n",
       "      <td>20150225T000000</td>\n",
       "      <td>180000.0</td>\n",
       "      <td>2</td>\n",
       "      <td>1.00</td>\n",
       "      <td>770</td>\n",
       "      <td>10000</td>\n",
       "      <td>1.0</td>\n",
       "      <td>0</td>\n",
       "      <td>0</td>\n",
       "      <td>...</td>\n",
       "      <td>6</td>\n",
       "      <td>770</td>\n",
       "      <td>0</td>\n",
       "      <td>1933</td>\n",
       "      <td>0</td>\n",
       "      <td>98028</td>\n",
       "      <td>47.7379</td>\n",
       "      <td>-122.233</td>\n",
       "      <td>2720</td>\n",
       "      <td>8062</td>\n",
       "    </tr>\n",
       "    <tr>\n",
       "      <th>3</th>\n",
       "      <td>2487200875</td>\n",
       "      <td>20141209T000000</td>\n",
       "      <td>604000.0</td>\n",
       "      <td>4</td>\n",
       "      <td>3.00</td>\n",
       "      <td>1960</td>\n",
       "      <td>5000</td>\n",
       "      <td>1.0</td>\n",
       "      <td>0</td>\n",
       "      <td>0</td>\n",
       "      <td>...</td>\n",
       "      <td>7</td>\n",
       "      <td>1050</td>\n",
       "      <td>910</td>\n",
       "      <td>1965</td>\n",
       "      <td>0</td>\n",
       "      <td>98136</td>\n",
       "      <td>47.5208</td>\n",
       "      <td>-122.393</td>\n",
       "      <td>1360</td>\n",
       "      <td>5000</td>\n",
       "    </tr>\n",
       "    <tr>\n",
       "      <th>4</th>\n",
       "      <td>1954400510</td>\n",
       "      <td>20150218T000000</td>\n",
       "      <td>510000.0</td>\n",
       "      <td>3</td>\n",
       "      <td>2.00</td>\n",
       "      <td>1680</td>\n",
       "      <td>8080</td>\n",
       "      <td>1.0</td>\n",
       "      <td>0</td>\n",
       "      <td>0</td>\n",
       "      <td>...</td>\n",
       "      <td>8</td>\n",
       "      <td>1680</td>\n",
       "      <td>0</td>\n",
       "      <td>1987</td>\n",
       "      <td>0</td>\n",
       "      <td>98074</td>\n",
       "      <td>47.6168</td>\n",
       "      <td>-122.045</td>\n",
       "      <td>1800</td>\n",
       "      <td>7503</td>\n",
       "    </tr>\n",
       "  </tbody>\n",
       "</table>\n",
       "<p>5 rows × 21 columns</p>\n",
       "</div>"
      ],
      "text/plain": [
       "           id             date     price  bedrooms  bathrooms  sqft_living  \\\n",
       "0  7129300520  20141013T000000  221900.0         3       1.00         1180   \n",
       "1  6414100192  20141209T000000  538000.0         3       2.25         2570   \n",
       "2  5631500400  20150225T000000  180000.0         2       1.00          770   \n",
       "3  2487200875  20141209T000000  604000.0         4       3.00         1960   \n",
       "4  1954400510  20150218T000000  510000.0         3       2.00         1680   \n",
       "\n",
       "   sqft_lot  floors  waterfront  view  ...  grade  sqft_above  sqft_basement  \\\n",
       "0      5650     1.0           0     0  ...      7        1180              0   \n",
       "1      7242     2.0           0     0  ...      7        2170            400   \n",
       "2     10000     1.0           0     0  ...      6         770              0   \n",
       "3      5000     1.0           0     0  ...      7        1050            910   \n",
       "4      8080     1.0           0     0  ...      8        1680              0   \n",
       "\n",
       "   yr_built  yr_renovated  zipcode      lat     long  sqft_living15  \\\n",
       "0      1955             0    98178  47.5112 -122.257           1340   \n",
       "1      1951          1991    98125  47.7210 -122.319           1690   \n",
       "2      1933             0    98028  47.7379 -122.233           2720   \n",
       "3      1965             0    98136  47.5208 -122.393           1360   \n",
       "4      1987             0    98074  47.6168 -122.045           1800   \n",
       "\n",
       "   sqft_lot15  \n",
       "0        5650  \n",
       "1        7639  \n",
       "2        8062  \n",
       "3        5000  \n",
       "4        7503  \n",
       "\n",
       "[5 rows x 21 columns]"
      ]
     },
     "execution_count": 3,
     "metadata": {},
     "output_type": "execute_result"
    }
   ],
   "source": [
    "data.head()"
   ]
  },
  {
   "cell_type": "code",
   "execution_count": 4,
   "id": "66e42f10-e547-4591-9880-ff516f866ad2",
   "metadata": {},
   "outputs": [
    {
     "name": "stdout",
     "output_type": "stream",
     "text": [
      "<class 'pandas.core.frame.DataFrame'>\n",
      "RangeIndex: 21613 entries, 0 to 21612\n",
      "Data columns (total 21 columns):\n",
      " #   Column         Non-Null Count  Dtype  \n",
      "---  ------         --------------  -----  \n",
      " 0   id             21613 non-null  int64  \n",
      " 1   date           21613 non-null  object \n",
      " 2   price          21613 non-null  float64\n",
      " 3   bedrooms       21613 non-null  int64  \n",
      " 4   bathrooms      21613 non-null  float64\n",
      " 5   sqft_living    21613 non-null  int64  \n",
      " 6   sqft_lot       21613 non-null  int64  \n",
      " 7   floors         21613 non-null  float64\n",
      " 8   waterfront     21613 non-null  int64  \n",
      " 9   view           21613 non-null  int64  \n",
      " 10  condition      21613 non-null  int64  \n",
      " 11  grade          21613 non-null  int64  \n",
      " 12  sqft_above     21613 non-null  int64  \n",
      " 13  sqft_basement  21613 non-null  int64  \n",
      " 14  yr_built       21613 non-null  int64  \n",
      " 15  yr_renovated   21613 non-null  int64  \n",
      " 16  zipcode        21613 non-null  int64  \n",
      " 17  lat            21613 non-null  float64\n",
      " 18  long           21613 non-null  float64\n",
      " 19  sqft_living15  21613 non-null  int64  \n",
      " 20  sqft_lot15     21613 non-null  int64  \n",
      "dtypes: float64(5), int64(15), object(1)\n",
      "memory usage: 3.5+ MB\n"
     ]
    }
   ],
   "source": [
    "data.info()"
   ]
  },
  {
   "cell_type": "code",
   "execution_count": 5,
   "id": "5eb82c07-e548-4706-b90d-141da3e4865e",
   "metadata": {},
   "outputs": [],
   "source": [
    "data = data.drop_duplicates()"
   ]
  },
  {
   "cell_type": "markdown",
   "id": "0d62db39-b719-40f6-b5db-f5c27a29f6b0",
   "metadata": {},
   "source": [
    "## 1. Quantas casas estão disponíveis para comprar?\n",
    "\n"
   ]
  },
  {
   "cell_type": "code",
   "execution_count": 6,
   "id": "bc79cfe0-26cb-47f8-aff6-e4dcee7ed10c",
   "metadata": {},
   "outputs": [
    {
     "name": "stdout",
     "output_type": "stream",
     "text": [
      "Existem 21613 casa disponíveis para compra\n"
     ]
    }
   ],
   "source": [
    "print(f'Existem {data.shape[0]} casa disponíveis para compra')"
   ]
  },
  {
   "cell_type": "markdown",
   "id": "89ceced8-2c47-4033-8e93-fdc67b8c839a",
   "metadata": {
    "tags": []
   },
   "source": [
    "## 2. Quantos atributos as casas possuem?\n"
   ]
  },
  {
   "cell_type": "code",
   "execution_count": 7,
   "id": "9ac652ed-0730-43a7-b6f8-64824a1f4082",
   "metadata": {},
   "outputs": [
    {
     "name": "stdout",
     "output_type": "stream",
     "text": [
      "Existem 21 atributos por casa\n"
     ]
    }
   ],
   "source": [
    "print(f'Existem {len (data.columns)} atributos por casa')"
   ]
  },
  {
   "cell_type": "markdown",
   "id": "63e2eaee-c42d-4a18-b2d5-04d667a8ea2d",
   "metadata": {},
   "source": [
    "## 3. Quais os atributos?"
   ]
  },
  {
   "cell_type": "code",
   "execution_count": 8,
   "id": "001cd71f-da25-4e9e-bd33-9cd78f19b362",
   "metadata": {},
   "outputs": [
    {
     "name": "stdout",
     "output_type": "stream",
     "text": [
      "Os atributos são ['id', 'date', 'price', 'bedrooms', 'bathrooms', 'sqft_living', 'sqft_lot', 'floors', 'waterfront', 'view', 'condition', 'grade', 'sqft_above', 'sqft_basement', 'yr_built', 'yr_renovated', 'zipcode', 'lat', 'long', 'sqft_living15', 'sqft_lot15']\n"
     ]
    }
   ],
   "source": [
    "print(f'Os atributos são {[col for col in data.columns]}')"
   ]
  },
  {
   "cell_type": "markdown",
   "id": "3286c703-5e8b-48cb-a5a3-742bf520fcd4",
   "metadata": {
    "tags": []
   },
   "source": [
    "## 4. Qual a casa mais cara do Portfólio?"
   ]
  },
  {
   "cell_type": "code",
   "execution_count": 9,
   "id": "ae243c36-a7db-4d6a-ba3d-dad069460b3c",
   "metadata": {},
   "outputs": [],
   "source": [
    "data_temp = data[['id','price']].sort_values(by='price',ascending=False).reset_index()"
   ]
  },
  {
   "cell_type": "code",
   "execution_count": 10,
   "id": "9dfc0a93-c897-4559-a3d1-2fe2c3779301",
   "metadata": {},
   "outputs": [
    {
     "name": "stdout",
     "output_type": "stream",
     "text": [
      "A cade de ID 6762700020 tem o valor de USD 7700000.0\n"
     ]
    }
   ],
   "source": [
    "print(f'A cade de ID {data_temp[\"id\"][0]} tem o valor de USD {data_temp[\"price\"][0]}')"
   ]
  },
  {
   "cell_type": "markdown",
   "id": "8392a4a1-45d1-46ee-95ab-d859a3dbfaaf",
   "metadata": {},
   "source": [
    "## 5. QUal casa com maior numero de quartos?"
   ]
  },
  {
   "cell_type": "code",
   "execution_count": 11,
   "id": "cfbbf056-b17a-4fc1-a3f9-a874e9c3729b",
   "metadata": {},
   "outputs": [],
   "source": [
    "data_temp = data[['id','bedrooms']].sort_values(by='bedrooms',ascending=False).reset_index()"
   ]
  },
  {
   "cell_type": "code",
   "execution_count": 12,
   "id": "39d60f74-e1c5-4190-9f62-cc3a48d9941b",
   "metadata": {},
   "outputs": [
    {
     "name": "stdout",
     "output_type": "stream",
     "text": [
      "A casa de ID 2402100895 tem 33 quartos\n"
     ]
    }
   ],
   "source": [
    "print(f'A casa de ID {data_temp[\"id\"][0]} tem {data_temp[\"bedrooms\"][0]} quartos')"
   ]
  },
  {
   "cell_type": "markdown",
   "id": "91f835b3-b5d6-48f7-adcd-43b7cabfa52d",
   "metadata": {},
   "source": [
    "## 6. Qual a soma total de quartos do conjunto de dados"
   ]
  },
  {
   "cell_type": "code",
   "execution_count": 13,
   "id": "3578f80a-5352-4c22-aa83-838ad590fea7",
   "metadata": {},
   "outputs": [
    {
     "name": "stdout",
     "output_type": "stream",
     "text": [
      "No total temos 72854 quartos\n"
     ]
    }
   ],
   "source": [
    "print(f'No total temos {data[\"bedrooms\"].sum()} quartos')"
   ]
  },
  {
   "cell_type": "markdown",
   "id": "2de96ccf-37b2-4f3f-bdb3-584d32571e40",
   "metadata": {},
   "source": [
    "## 7. Quantas casas possuem 2 banheiros"
   ]
  },
  {
   "cell_type": "code",
   "execution_count": 14,
   "id": "dc6dbd87-dea8-429d-b1f3-160621718c91",
   "metadata": {},
   "outputs": [
    {
     "name": "stdout",
     "output_type": "stream",
     "text": [
      "1930 casas possuem 2 banheiros\n"
     ]
    }
   ],
   "source": [
    "print(f'{data.loc[data[\"bathrooms\"]== 2].shape[0]} casas possuem 2 banheiros')"
   ]
  },
  {
   "cell_type": "markdown",
   "id": "b856a576-d2ad-42a3-9f9b-95a2c1c068fc",
   "metadata": {},
   "source": [
    "## 8. Qual o preço médio de todas as casas?"
   ]
  },
  {
   "cell_type": "code",
   "execution_count": 15,
   "id": "dc7d908d-f733-47d2-99c9-0e90cdd9d79f",
   "metadata": {},
   "outputs": [
    {
     "data": {
      "text/plain": [
       "540088.14"
      ]
     },
     "execution_count": 15,
     "metadata": {},
     "output_type": "execute_result"
    }
   ],
   "source": [
    "np.round(data.price.mean(),2)"
   ]
  },
  {
   "cell_type": "markdown",
   "id": "c77a0e4c-6860-4de8-a4be-a8da8de35c36",
   "metadata": {},
   "source": [
    "## 9. Qual preço médio de casas com 2 banheiros"
   ]
  },
  {
   "cell_type": "code",
   "execution_count": 16,
   "id": "7ef22a0d-266b-4436-bf1e-16c6cb95c7cd",
   "metadata": {},
   "outputs": [
    {
     "data": {
      "text/plain": [
       "457889.72"
      ]
     },
     "execution_count": 16,
     "metadata": {},
     "output_type": "execute_result"
    }
   ],
   "source": [
    "np.round(data.loc[data['bathrooms'] == 2, 'price'].mean(),2)\n"
   ]
  },
  {
   "cell_type": "markdown",
   "id": "a3363908-c98e-475f-b6e3-f5b3c8bd2b7a",
   "metadata": {},
   "source": [
    "Casas com 2 banheiros possuem o valor médio de USD 401372.68"
   ]
  },
  {
   "cell_type": "markdown",
   "id": "a7b5e064-d90f-48e7-8783-8b40a66047c2",
   "metadata": {},
   "source": [
    "## 10. Qual preço minimo entre as casas com 3 quartos"
   ]
  },
  {
   "cell_type": "code",
   "execution_count": 17,
   "id": "21ddfe49-a50f-490d-8e6a-88a35c578b4d",
   "metadata": {},
   "outputs": [
    {
     "data": {
      "text/plain": [
       "82000.0"
      ]
     },
     "execution_count": 17,
     "metadata": {},
     "output_type": "execute_result"
    }
   ],
   "source": [
    "data_temp = data.loc[data['bedrooms'] == 3 , 'price'];data_temp.min()\n"
   ]
  },
  {
   "cell_type": "markdown",
   "id": "dc2c1358-b83b-41ba-a318-caf9522feb12",
   "metadata": {},
   "source": [
    "O preço minimo de casas com 3 quartos é de 82000.0 USD"
   ]
  },
  {
   "cell_type": "markdown",
   "id": "bde0b6a7-e9f9-4f96-bbc7-641579eba994",
   "metadata": {},
   "source": [
    "## 11. Quantas casas possuem mais de 300 metros quadrados na sala de estar"
   ]
  },
  {
   "cell_type": "code",
   "execution_count": 18,
   "id": "31c8e528-25c4-4f53-a360-70c289705556",
   "metadata": {},
   "outputs": [
    {
     "data": {
      "text/plain": [
       "21612"
      ]
     },
     "execution_count": 18,
     "metadata": {},
     "output_type": "execute_result"
    }
   ],
   "source": [
    "len(data.loc[data['sqft_living'] > 300,'id'])"
   ]
  },
  {
   "cell_type": "markdown",
   "id": "5772dcb8-f1b1-4468-95c3-94622e011653",
   "metadata": {},
   "source": [
    "## 12 - quantas casas tem mais de 2 andares?"
   ]
  },
  {
   "cell_type": "code",
   "execution_count": null,
   "id": "16107d1d-20b1-45ba-b17a-41a128b4a2ec",
   "metadata": {},
   "outputs": [],
   "source": []
  }
 ],
 "metadata": {
  "kernelspec": {
   "display_name": "Python 3 (ipykernel)",
   "language": "python",
   "name": "python3"
  },
  "language_info": {
   "codemirror_mode": {
    "name": "ipython",
    "version": 3
   },
   "file_extension": ".py",
   "mimetype": "text/x-python",
   "name": "python",
   "nbconvert_exporter": "python",
   "pygments_lexer": "ipython3",
   "version": "3.9.12"
  }
 },
 "nbformat": 4,
 "nbformat_minor": 5
}
